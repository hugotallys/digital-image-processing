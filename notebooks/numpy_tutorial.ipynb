{
    "cells": [
        {
            "attachments": {},
            "cell_type": "markdown",
            "metadata": {},
            "source": [
                "# Numpy Tutorial"
            ]
        },
        {
            "cell_type": "code",
            "execution_count": 1,
            "metadata": {},
            "outputs": [],
            "source": [
                "import numpy as np\n",
                "\n",
                "np.set_printoptions(precision=4, suppress=True)"
            ]
        },
        {
            "attachments": {},
            "cell_type": "markdown",
            "metadata": {},
            "source": [
                "# NumPy Array"
            ]
        },
        {
            "cell_type": "code",
            "execution_count": 2,
            "metadata": {},
            "outputs": [
                {
                    "data": {
                        "text/plain": [
                            "array([[9.5078e-312, 2.4703e-322, 0.0000e+000, 0.0000e+000],\n",
                            "       [1.1883e-312, 5.6423e-067, 7.1182e-091, 1.2786e+165],\n",
                            "       [8.3188e-072, 9.3312e+164, 3.9991e+252, 1.9098e-312]])"
                        ]
                    },
                    "execution_count": 2,
                    "metadata": {},
                    "output_type": "execute_result"
                }
            ],
            "source": [
                "# Create an empty numpy array\n",
                "empty = np.empty((3, 4))\n",
                "empty"
            ]
        },
        {
            "cell_type": "code",
            "execution_count": 3,
            "metadata": {},
            "outputs": [
                {
                    "data": {
                        "text/plain": [
                            "array([[5, 5, 5, 5],\n",
                            "       [5, 5, 5, 5],\n",
                            "       [5, 5, 5, 5]])"
                        ]
                    },
                    "execution_count": 3,
                    "metadata": {},
                    "output_type": "execute_result"
                }
            ],
            "source": [
                "# Create a full numpy array\n",
                "full = np.full((3, 4), 5)\n",
                "full"
            ]
        },
        {
            "cell_type": "code",
            "execution_count": 4,
            "metadata": {},
            "outputs": [
                {
                    "data": {
                        "text/plain": [
                            "array([[0., 0., 0., 0.],\n",
                            "       [0., 0., 0., 0.],\n",
                            "       [0., 0., 0., 0.]])"
                        ]
                    },
                    "execution_count": 4,
                    "metadata": {},
                    "output_type": "execute_result"
                }
            ],
            "source": [
                "# Create a numpy array filled with zeros\n",
                "zeros = np.zeros((3, 4))\n",
                "zeros"
            ]
        },
        {
            "cell_type": "code",
            "execution_count": 5,
            "metadata": {},
            "outputs": [
                {
                    "data": {
                        "text/plain": [
                            "array([[1., 1., 1., 1.],\n",
                            "       [1., 1., 1., 1.],\n",
                            "       [1., 1., 1., 1.]])"
                        ]
                    },
                    "execution_count": 5,
                    "metadata": {},
                    "output_type": "execute_result"
                }
            ],
            "source": [
                "# Create a numpy array filled with ones\n",
                "ones = np.ones((3, 4))\n",
                "ones"
            ]
        },
        {
            "cell_type": "code",
            "execution_count": 6,
            "metadata": {},
            "outputs": [
                {
                    "data": {
                        "text/plain": [
                            "True"
                        ]
                    },
                    "execution_count": 6,
                    "metadata": {},
                    "output_type": "execute_result"
                }
            ],
            "source": [
                "# Check whether a numpy array contains as specified row\n",
                "def contains_row(arr, row):\n",
                "    return np.any(np.all(arr == row, axis=1))\n",
                "\n",
                "contains_row(np.array([[1, 2, 3], [4, 5, 6], [7, 8, 9]]), np.array([4, 5, 6]))"
            ]
        },
        {
            "cell_type": "code",
            "execution_count": 7,
            "metadata": {},
            "outputs": [
                {
                    "data": {
                        "text/plain": [
                            "array([[1., 2., 3.],\n",
                            "       [7., 8., 9.]])"
                        ]
                    },
                    "execution_count": 7,
                    "metadata": {},
                    "output_type": "execute_result"
                }
            ],
            "source": [
                "# Remove rows in Numpy array that contains non-numeric values\n",
                "def remove_non_numeric_rows(arr):\n",
                "    return arr[~np.isnan(arr).any(axis=1)]\n",
                "\n",
                "remove_non_numeric_rows(np.array([[1, 2, 3], [4, np.nan, 6], [7, 8, 9]]))"
            ]
        },
        {
            "cell_type": "code",
            "execution_count": 8,
            "metadata": {},
            "outputs": [
                {
                    "data": {
                        "text/plain": [
                            "array([[0., 0., 0., 0.],\n",
                            "       [0., 0., 0., 0.],\n",
                            "       [0., 0., 0., 0.]])"
                        ]
                    },
                    "execution_count": 8,
                    "metadata": {},
                    "output_type": "execute_result"
                }
            ],
            "source": [
                "# Remove single-dimensional entries from the shape of an array\n",
                "def squeeze(arr):\n",
                "    arr = np.squeeze(arr)\n",
                "    return arr\n",
                "\n",
                "squeeze(np.zeros((3, 1, 4)))"
            ]
        },
        {
            "cell_type": "code",
            "execution_count": 9,
            "metadata": {},
            "outputs": [
                {
                    "data": {
                        "text/plain": [
                            "2"
                        ]
                    },
                    "execution_count": 9,
                    "metadata": {},
                    "output_type": "execute_result"
                }
            ],
            "source": [
                "# Find the number of occurrences of a sequence in a NumPy array\n",
                "def count_occurrences(arr, seq):\n",
                "    return np.sum(np.all(arr == seq, axis=1))\n",
                "\n",
                "count_occurrences(np.array([[1, 2, 3], [4, 5, 6], [4, 5, 6]]), np.array([4, 5, 6]))"
            ]
        },
        {
            "cell_type": "code",
            "execution_count": 10,
            "metadata": {},
            "outputs": [
                {
                    "data": {
                        "text/plain": [
                            "9"
                        ]
                    },
                    "execution_count": 10,
                    "metadata": {},
                    "output_type": "execute_result"
                }
            ],
            "source": [
                "# Find the most frequent value in a NumPy array\n",
                "def most_frequent(arr):\n",
                "    return np.bincount(arr).argmax()\n",
                "\n",
                "most_frequent(np.array([1, 2, 3, 4, 5, 6, 7, 8, 9, 9]))"
            ]
        },
        {
            "cell_type": "code",
            "execution_count": 11,
            "metadata": {},
            "outputs": [
                {
                    "data": {
                        "text/plain": [
                            "array([[1, 2, 3],\n",
                            "       [4, 5, 6],\n",
                            "       [7, 8, 9]])"
                        ]
                    },
                    "execution_count": 11,
                    "metadata": {},
                    "output_type": "execute_result"
                }
            ],
            "source": [
                "# Combining a one and a two-dimensional NumPy Array\n",
                "def combine(arr1D, arr2D):\n",
                "    return np.vstack((arr1D, arr2D))\n",
                "\n",
                "combine(np.array([1, 2, 3]), np.array([[4, 5, 6], [7, 8, 9]]))\n"
            ]
        },
        {
            "cell_type": "code",
            "execution_count": 12,
            "metadata": {},
            "outputs": [
                {
                    "data": {
                        "text/plain": [
                            "array([[1, 4],\n",
                            "       [1, 5],\n",
                            "       [1, 6],\n",
                            "       [2, 4],\n",
                            "       [2, 5],\n",
                            "       [2, 6],\n",
                            "       [3, 4],\n",
                            "       [3, 5],\n",
                            "       [3, 6]])"
                        ]
                    },
                    "execution_count": 12,
                    "metadata": {},
                    "output_type": "execute_result"
                }
            ],
            "source": [
                "# How to build an array of all combinations of two NumPy arrays ?\n",
                "def combinations(arr1, arr2):\n",
                "    return np.array(np.meshgrid(arr1, arr2)).T.reshape(-1, 2)\n",
                "\n",
                "combinations(np.array([1, 2, 3]), np.array([4, 5, 6]))"
            ]
        },
        {
            "cell_type": "code",
            "execution_count": 13,
            "metadata": {},
            "outputs": [
                {
                    "data": {
                        "text/plain": [
                            "array([[0, 0, 0, 0, 0],\n",
                            "       [0, 1, 2, 3, 0],\n",
                            "       [0, 4, 5, 6, 0],\n",
                            "       [0, 7, 8, 9, 0],\n",
                            "       [0, 0, 0, 0, 0]])"
                        ]
                    },
                    "execution_count": 13,
                    "metadata": {},
                    "output_type": "execute_result"
                }
            ],
            "source": [
                "# How to add a border around a NumPy array?\n",
                "def add_border(arr, border):\n",
                "    return np.pad(arr, border, mode='constant', constant_values=0)\n",
                "\n",
                "add_border(np.array([[1, 2, 3], [4, 5, 6], [7, 8, 9]]), 1)"
            ]
        },
        {
            "cell_type": "code",
            "execution_count": 14,
            "metadata": {},
            "outputs": [
                {
                    "data": {
                        "text/plain": [
                            "True"
                        ]
                    },
                    "execution_count": 14,
                    "metadata": {},
                    "output_type": "execute_result"
                }
            ],
            "source": [
                "# How to compare two NumPy arrays ?\n",
                "def compare(arr1, arr2):\n",
                "    return np.all(arr1 == arr2)\n",
                "\n",
                "compare(np.array([1, 2, 3]), np.array([1, 2, 3]))"
            ]
        },
        {
            "cell_type": "code",
            "execution_count": 15,
            "metadata": {},
            "outputs": [
                {
                    "data": {
                        "text/plain": [
                            "False"
                        ]
                    },
                    "execution_count": 15,
                    "metadata": {},
                    "output_type": "execute_result"
                }
            ],
            "source": [
                "# How to check whether specified values are present in NumPy array ?\n",
                "def contains(arr, values):\n",
                "    return np.isin(arr, values).any()\n",
                "\n",
                "contains(np.array([1, 2, 3]), np.array([4, 5, 6]))"
            ]
        },
        {
            "cell_type": "code",
            "execution_count": 16,
            "metadata": {},
            "outputs": [
                {
                    "name": "stdout",
                    "output_type": "stream",
                    "text": [
                        "Original 3d array:\n",
                        " [[[ 0  1  2  3]\n",
                        "  [ 4  5  6  7]\n",
                        "  [ 8  9 10 11]\n",
                        "  [12 13 14 15]]\n",
                        "\n",
                        " [[16 17 18 19]\n",
                        "  [20 21 22 23]\n",
                        "  [24 25 26 27]\n",
                        "  [28 29 30 31]]\n",
                        "\n",
                        " [[32 33 34 35]\n",
                        "  [36 37 38 39]\n",
                        "  [40 41 42 43]\n",
                        "  [44 45 46 47]]]\n",
                        "2d diagonal array:\n",
                        " [[ 0  5 10 15]\n",
                        " [16 21 26 31]\n",
                        " [32 37 42 47]]\n"
                    ]
                }
            ],
            "source": [
                "# How to get all 2D diagonals of a 3D NumPy array ?\n",
                "def diagonal2D(arr):\n",
                "    return np.diagonal(arr, axis1=1, axis2=2)\n",
                "\n",
                "arr = np.arange(3 * 4 * 4).reshape(3, 4, 4)\n",
                "  \n",
                "print(\"Original 3d array:\\n\",  arr)\n",
                "  \n",
                "# Create 2D diagonal array\n",
                "diag_arr = diagonal2D(arr)\n",
                "  \n",
                "print(\"2d diagonal array:\\n\",  diag_arr)"
            ]
        },
        {
            "cell_type": "code",
            "execution_count": 17,
            "metadata": {},
            "outputs": [
                {
                    "data": {
                        "text/plain": [
                            "array([1, 2, 3, 4, 5, 6, 7, 8, 9])"
                        ]
                    },
                    "execution_count": 17,
                    "metadata": {},
                    "output_type": "execute_result"
                }
            ],
            "source": [
                "# Flatten a Matrix in Python using NumPy or\n",
                "# Flatten a 2d numpy array into 1d array\n",
                "def flatten(matrix):\n",
                "    return matrix.flatten()\n",
                "\n",
                "flatten(np.array([[1, 2, 3], [4, 5, 6], [7, 8, 9]]))"
            ]
        },
        {
            "cell_type": "code",
            "execution_count": 18,
            "metadata": {},
            "outputs": [
                {
                    "data": {
                        "text/plain": [
                            "array([[0., 0., 0.],\n",
                            "       [0., 0., 0.],\n",
                            "       [0., 0., 0.],\n",
                            "       [0., 0., 0.]])"
                        ]
                    },
                    "execution_count": 18,
                    "metadata": {},
                    "output_type": "execute_result"
                }
            ],
            "source": [
                "# Move axes of an array to new positions\n",
                "def move_axes(arr, source, destination):\n",
                "    return np.moveaxis(arr, source, destination)\n",
                "\n",
                "move_axes(np.zeros((3, 4)), 0, 1)"
            ]
        },
        {
            "cell_type": "code",
            "execution_count": 19,
            "metadata": {},
            "outputs": [
                {
                    "data": {
                        "text/plain": [
                            "array([[0., 0., 0.],\n",
                            "       [0., 0., 0.],\n",
                            "       [0., 0., 0.],\n",
                            "       [0., 0., 0.]])"
                        ]
                    },
                    "execution_count": 19,
                    "metadata": {},
                    "output_type": "execute_result"
                }
            ],
            "source": [
                "# Interchange two axes of an array\n",
                "def swap_axes(arr, axis1, axis2):\n",
                "    return np.swapaxes(arr, axis1, axis2)\n",
                "\n",
                "swap_axes(np.zeros((3, 4)), 0, 1)"
            ]
        },
        {
            "cell_type": "code",
            "execution_count": 20,
            "metadata": {},
            "outputs": [
                {
                    "data": {
                        "text/plain": [
                            "55.0"
                        ]
                    },
                    "execution_count": 20,
                    "metadata": {},
                    "output_type": "execute_result"
                }
            ],
            "source": [
                "# NumPy – Fibonacci Series using Binet Formula\n",
                "def fibonacci(n):\n",
                "    return np.round(((1 + np.sqrt(5)) / 2) ** n / np.sqrt(5))\n",
                "\n",
                "fibonacci(10)"
            ]
        },
        {
            "cell_type": "code",
            "execution_count": 21,
            "metadata": {},
            "outputs": [
                {
                    "data": {
                        "text/plain": [
                            "6"
                        ]
                    },
                    "execution_count": 21,
                    "metadata": {},
                    "output_type": "execute_result"
                }
            ],
            "source": [
                "# Counts the number of non-zero values in the array\n",
                "def count_non_zero(arr):\n",
                "    return np.count_nonzero(arr)\n",
                "\n",
                "count_non_zero(np.array([1, 2, 3, 0, 0, 0, 4, 5, 6]))"
            ]
        },
        {
            "cell_type": "code",
            "execution_count": 22,
            "metadata": {},
            "outputs": [
                {
                    "data": {
                        "text/plain": [
                            "3"
                        ]
                    },
                    "execution_count": 22,
                    "metadata": {},
                    "output_type": "execute_result"
                }
            ],
            "source": [
                "# Count the number of elements along a given axis\n",
                "def count_elements(arr, axis):\n",
                "    return arr.shape[axis]\n",
                "\n",
                "count_elements(np.array([[[1, 2, 3], [4, 5, 6], [7, 8, 9]], [[1, 2, 3], [4, 5, 6], [7, 8, 9]]]), 1)"
            ]
        },
        {
            "cell_type": "code",
            "execution_count": 23,
            "metadata": {},
            "outputs": [
                {
                    "data": {
                        "text/plain": [
                            "array([1, 2, 3])"
                        ]
                    },
                    "execution_count": 23,
                    "metadata": {},
                    "output_type": "execute_result"
                }
            ],
            "source": [
                "# Trim the leading and/or trailing zeros from a 1-D array\n",
                "def trim_zeros(arr):\n",
                "    return np.trim_zeros(arr)\n",
                "\n",
                "trim_zeros(np.array([0, 0, 0, 1, 2, 3, 0, 0, 0]))"
            ]
        },
        {
            "cell_type": "code",
            "execution_count": 24,
            "metadata": {},
            "outputs": [
                {
                    "data": {
                        "text/plain": [
                            "array([1., 2., 3.])"
                        ]
                    },
                    "execution_count": 24,
                    "metadata": {},
                    "output_type": "execute_result"
                }
            ],
            "source": [
                "# Change data type of given numpy array\n",
                "def change_type(arr, dtype):\n",
                "    return arr.astype(dtype)\n",
                "\n",
                "change_type(np.array([1, 2, 3]), np.float64)"
            ]
        },
        {
            "cell_type": "code",
            "execution_count": 25,
            "metadata": {},
            "outputs": [
                {
                    "data": {
                        "text/plain": [
                            "array([9, 8, 7, 6, 5, 4, 3, 2, 1])"
                        ]
                    },
                    "execution_count": 25,
                    "metadata": {},
                    "output_type": "execute_result"
                }
            ],
            "source": [
                "# Reverse a numpy array\n",
                "def reverse(arr):\n",
                "    return arr[::-1]\n",
                "\n",
                "reverse(np.array([1, 2, 3, 4, 5, 6, 7, 8, 9]))"
            ]
        },
        {
            "cell_type": "code",
            "execution_count": 26,
            "metadata": {},
            "outputs": [
                {
                    "name": "stdout",
                    "output_type": "stream",
                    "text": [
                        "You can not change a read only array\n"
                    ]
                }
            ],
            "source": [
                "# How to make a NumPy array read-only?\n",
                "def read_only(arr):\n",
                "    arr.flags.writeable = False\n",
                "    return arr\n",
                "\n",
                "read_only_arr = read_only(np.array([1, 2, 3, 4, 5, 6, 7, 8, 9]))\n",
                "\n",
                "try:\n",
                "    read_only_arr[0] = 10\n",
                "except ValueError:\n",
                "    print(\"You can not change a read only array\")"
            ]
        },
        {
            "attachments": {},
            "cell_type": "markdown",
            "metadata": {},
            "source": [
                "# Questions on NumPy Matrix"
            ]
        },
        {
            "cell_type": "code",
            "execution_count": 27,
            "metadata": {},
            "outputs": [
                {
                    "data": {
                        "text/plain": [
                            "9"
                        ]
                    },
                    "execution_count": 27,
                    "metadata": {},
                    "output_type": "execute_result"
                }
            ],
            "source": [
                "# Get the maximum value from given matrix\n",
                "def max_value(arr):\n",
                "    return np.max(arr)\n",
                "\n",
                "max_value(np.array([[1, 2, 3], [4, 5, 6], [7, 8, 9]]))"
            ]
        },
        {
            "cell_type": "code",
            "execution_count": 28,
            "metadata": {},
            "outputs": [
                {
                    "data": {
                        "text/plain": [
                            "1"
                        ]
                    },
                    "execution_count": 28,
                    "metadata": {},
                    "output_type": "execute_result"
                }
            ],
            "source": [
                "# Get the minimum value from given matrix\n",
                "def min_value(arr):\n",
                "    return np.min(arr)\n",
                "\n",
                "min_value(np.array([[1, 2, 3], [4, 5, 6], [7, 8, 9]]))"
            ]
        },
        {
            "cell_type": "code",
            "execution_count": 29,
            "metadata": {},
            "outputs": [
                {
                    "name": "stdout",
                    "output_type": "stream",
                    "text": [
                        "Number of rows: 3 Number of columns: 3\n"
                    ]
                }
            ],
            "source": [
                "# Find the number of rows and columns of a given matrix using NumPy\n",
                "def shape(arr):\n",
                "    print(\"Number of rows: {} Number of columns: {}\".format(arr.shape[0], arr.shape[1]))\n",
                "\n",
                "shape(np.array([[1, 2, 3], [4, 5, 6], [7, 8, 9]]))"
            ]
        },
        {
            "cell_type": "code",
            "execution_count": 30,
            "metadata": {},
            "outputs": [
                {
                    "data": {
                        "text/plain": [
                            "array([1, 5, 9])"
                        ]
                    },
                    "execution_count": 30,
                    "metadata": {},
                    "output_type": "execute_result"
                }
            ],
            "source": [
                "# Select the elements from a given matrix\n",
                "def select(arr, rows, columns):\n",
                "    return arr[rows, columns]\n",
                "\n",
                "select(np.array([[1, 2, 3], [4, 5, 6], [7, 8, 9]]), [0, 1, 2], [0, 1, 2])"
            ]
        },
        {
            "cell_type": "code",
            "execution_count": 31,
            "metadata": {},
            "outputs": [
                {
                    "data": {
                        "text/plain": [
                            "45"
                        ]
                    },
                    "execution_count": 31,
                    "metadata": {},
                    "output_type": "execute_result"
                }
            ],
            "source": [
                "# Find the sum of values in a matrix\n",
                "def sum_values(arr):\n",
                "    return np.sum(arr)\n",
                "\n",
                "sum_values(np.array([[1, 2, 3], [4, 5, 6], [7, 8, 9]]))"
            ]
        },
        {
            "cell_type": "code",
            "execution_count": 32,
            "metadata": {},
            "outputs": [
                {
                    "data": {
                        "text/plain": [
                            "15"
                        ]
                    },
                    "execution_count": 32,
                    "metadata": {},
                    "output_type": "execute_result"
                }
            ],
            "source": [
                "# Calculate the sum of the diagonal elements of a NumPy array\n",
                "def sum_diagonal(arr):\n",
                "    return np.trace(arr)\n",
                "\n",
                "sum_diagonal(np.array([[1, 2, 3], [4, 5, 6], [7, 8, 9]]))"
            ]
        },
        {
            "cell_type": "code",
            "execution_count": 33,
            "metadata": {},
            "outputs": [
                {
                    "data": {
                        "text/plain": [
                            "array([[ 2,  4,  6],\n",
                            "       [ 8, 10, 12],\n",
                            "       [14, 16, 18]])"
                        ]
                    },
                    "execution_count": 33,
                    "metadata": {},
                    "output_type": "execute_result"
                }
            ],
            "source": [
                "# Adding and Subtracting Matrices in Python\n",
                "def add_matrices(arr1, arr2):\n",
                "    return arr1 + arr2\n",
                "\n",
                "add_matrices(np.array([[1, 2, 3], [4, 5, 6], [7, 8, 9]]), np.array([[1, 2, 3], [4, 5, 6], [7, 8, 9]]))"
            ]
        },
        {
            "cell_type": "code",
            "execution_count": 34,
            "metadata": {},
            "outputs": [
                {
                    "name": "stdout",
                    "output_type": "stream",
                    "text": [
                        "Adding a row to a matrix:\n",
                        "[[1 2 3]\n",
                        " [4 5 6]\n",
                        " [7 8 9]\n",
                        " [1 2 3]]\n",
                        "Adding a column to a matrix:\n",
                        "[[1 2 3 1]\n",
                        " [4 5 6 2]\n",
                        " [7 8 9 3]]\n"
                    ]
                }
            ],
            "source": [
                "# Ways to add row/columns in numpy array\n",
                "def add_row(arr, row):\n",
                "    return np.vstack((arr, row))\n",
                "\n",
                "def add_column(arr, column):\n",
                "    return np.hstack((arr, column[:, None]))\n",
                "\n",
                "print(\"Adding a row to a matrix:\")\n",
                "print(add_row(np.array([[1, 2, 3], [4, 5, 6], [7, 8, 9]]), np.array([1, 2, 3])))\n",
                "print(\"Adding a column to a matrix:\")\n",
                "print(add_column(np.array([[1, 2, 3], [4, 5, 6], [7, 8, 9]]), np.array([1, 2, 3])))\n"
            ]
        },
        {
            "cell_type": "code",
            "execution_count": 35,
            "metadata": {},
            "outputs": [
                {
                    "data": {
                        "text/plain": [
                            "array([[ 30,  36,  42],\n",
                            "       [ 66,  81,  96],\n",
                            "       [102, 126, 150]])"
                        ]
                    },
                    "execution_count": 35,
                    "metadata": {},
                    "output_type": "execute_result"
                }
            ],
            "source": [
                "# Matrix Multiplication in NumPy\n",
                "def multiply_matrices(arr1, arr2):\n",
                "    return arr1 @ arr2\n",
                "\n",
                "multiply_matrices(np.array([[1, 2, 3], [4, 5, 6], [7, 8, 9]]), np.array([[1, 2, 3], [4, 5, 6], [7, 8, 9]]))"
            ]
        },
        {
            "cell_type": "code",
            "execution_count": 36,
            "metadata": {},
            "outputs": [
                {
                    "data": {
                        "text/plain": [
                            "array([16.1168, -1.1168, -0.    ])"
                        ]
                    },
                    "execution_count": 36,
                    "metadata": {},
                    "output_type": "execute_result"
                }
            ],
            "source": [
                "# Get the eigen values of a matrix\n",
                "def eigen_values(arr):\n",
                "    return np.linalg.eigvals(arr)\n",
                "\n",
                "eigen_values(np.array([[1, 2, 3], [4, 5, 6], [7, 8, 9]]))"
            ]
        },
        {
            "cell_type": "code",
            "execution_count": 37,
            "metadata": {},
            "outputs": [
                {
                    "data": {
                        "text/plain": [
                            "0.0"
                        ]
                    },
                    "execution_count": 37,
                    "metadata": {},
                    "output_type": "execute_result"
                }
            ],
            "source": [
                "# How to Calculate the determinant of a matrix using NumPy?\n",
                "def determinant(arr):\n",
                "    return np.linalg.det(arr)\n",
                "\n",
                "determinant(np.array([[1, 2, 3], [4, 5, 6], [7, 8, 9]]))"
            ]
        },
        {
            "cell_type": "code",
            "execution_count": 38,
            "metadata": {},
            "outputs": [
                {
                    "data": {
                        "text/plain": [
                            "array([[ 0.0116,  0.1279, -0.0581],\n",
                            "       [ 0.4186, -0.3953, -0.093 ],\n",
                            "       [-0.6744,  0.5814,  0.3721]])"
                        ]
                    },
                    "execution_count": 38,
                    "metadata": {},
                    "output_type": "execute_result"
                }
            ],
            "source": [
                "# How to inverse a matrix using NumPy\n",
                "def inverse(arr):\n",
                "    return np.linalg.inv(arr)\n",
                "\n",
                "inverse(np.random.randint(1, 10, (3, 3)))"
            ]
        },
        {
            "cell_type": "code",
            "execution_count": 39,
            "metadata": {},
            "outputs": [
                {
                    "data": {
                        "text/plain": [
                            "(array([1, 2, 3, 4, 5, 6, 7, 8, 9]),\n",
                            " array([3, 3, 3, 3, 3, 3, 3, 3, 3], dtype=int64))"
                        ]
                    },
                    "execution_count": 39,
                    "metadata": {},
                    "output_type": "execute_result"
                }
            ],
            "source": [
                "# How to count the frequency of unique values in NumPy array ?\n",
                "def count_unique(arr):\n",
                "    return np.unique(arr, return_counts=True)\n",
                "\n",
                "count_unique(np.array([1, 2, 3, 4, 5, 6, 7, 8, 9, 1, 2, 3, 4, 5, 6, 7, 8, 9, 1, 2, 3, 4, 5, 6, 7, 8, 9]))"
            ]
        },
        {
            "cell_type": "code",
            "execution_count": 40,
            "metadata": {},
            "outputs": [
                {
                    "data": {
                        "text/plain": [
                            "(70-8j)"
                        ]
                    },
                    "execution_count": 40,
                    "metadata": {},
                    "output_type": "execute_result"
                }
            ],
            "source": [
                "# Multiply matrices of complex numbers using NumPy in Python\n",
                "def multiply_complex(arr1, arr2):\n",
                "    return np.vdot(arr1, arr2)\n",
                "\n",
                "multiply_complex(np.array([1+2j, 3+4j]), np.array([5+6j, 7+8j]))"
            ]
        },
        {
            "cell_type": "code",
            "execution_count": 41,
            "metadata": {},
            "outputs": [
                {
                    "data": {
                        "text/plain": [
                            "array([[ 4,  5,  6],\n",
                            "       [ 8, 10, 12],\n",
                            "       [12, 15, 18]])"
                        ]
                    },
                    "execution_count": 41,
                    "metadata": {},
                    "output_type": "execute_result"
                }
            ],
            "source": [
                "# Compute the outer product of two given vectors using NumPy in Python\n",
                "def outer_product(arr1, arr2):\n",
                "    return np.outer(arr1, arr2)\n",
                "\n",
                "outer_product(np.array([1, 2, 3]), np.array([4, 5, 6]))"
            ]
        },
        {
            "cell_type": "code",
            "execution_count": 42,
            "metadata": {},
            "outputs": [
                {
                    "name": "stdout",
                    "output_type": "stream",
                    "text": [
                        "Inner product 32\n",
                        "Outer product\n",
                        " [[ 4  5  6]\n",
                        " [ 8 10 12]\n",
                        " [12 15 18]]\n",
                        "Cross product [-3  6 -3]\n"
                    ]
                }
            ],
            "source": [
                "# Calculate inner, outer, and cross products of matrices and vectors using NumPy\n",
                "\n",
                "# Inner product\n",
                "def inner_product(arr1, arr2):\n",
                "    return np.inner(arr1, arr2)\n",
                "\n",
                "print(\"Inner product\", inner_product(np.array([1, 2, 3]), np.array([4, 5, 6])))\n",
                "\n",
                "# Outer product\n",
                "def outer_product(arr1, arr2):\n",
                "    return np.outer(arr1, arr2)\n",
                "\n",
                "print(\"Outer product\\n\", outer_product(np.array([1, 2, 3]), np.array([4, 5, 6])))\n",
                "\n",
                "# Cross product\n",
                "def cross_product(arr1, arr2):\n",
                "    return np.cross(arr1, arr2)\n",
                "\n",
                "print(\"Cross product\", cross_product(np.array([1, 2, 3]), np.array([4, 5, 6])))"
            ]
        },
        {
            "cell_type": "code",
            "execution_count": 43,
            "metadata": {},
            "outputs": [
                {
                    "data": {
                        "text/plain": [
                            "array([[ 1., -1.],\n",
                            "       [-1.,  1.]])"
                        ]
                    },
                    "execution_count": 43,
                    "metadata": {},
                    "output_type": "execute_result"
                }
            ],
            "source": [
                "# Compute the covariance matrix of two given NumPy arrays\n",
                "def covariance(arr1, arr2):\n",
                "    return np.cov(arr1, arr2)\n",
                "\n",
                "covariance(np.array([0, 1, 2]), np.array([2, 1, 0]))"
            ]
        },
        {
            "cell_type": "code",
            "execution_count": 44,
            "metadata": {},
            "outputs": [
                {
                    "data": {
                        "text/plain": [
                            "array([[1., 1., 1.],\n",
                            "       [1., 1., 1.],\n",
                            "       [1., 1., 1.]])"
                        ]
                    },
                    "execution_count": 44,
                    "metadata": {},
                    "output_type": "execute_result"
                }
            ],
            "source": [
                "# Convert covariance matrix to correlation matrix using Python\n",
                "def correlation(arr):\n",
                "    return np.corrcoef(arr)\n",
                "\n",
                "correlation(np.array([[1, 2, 3], [4, 5, 6], [7, 8, 9]]))"
            ]
        },
        {
            "cell_type": "code",
            "execution_count": 45,
            "metadata": {},
            "outputs": [
                {
                    "data": {
                        "text/plain": [
                            "array([[ 5,  6, 10, 12],\n",
                            "       [ 7,  8, 14, 16],\n",
                            "       [15, 18, 20, 24],\n",
                            "       [21, 24, 28, 32]])"
                        ]
                    },
                    "execution_count": 45,
                    "metadata": {},
                    "output_type": "execute_result"
                }
            ],
            "source": [
                "# Compute the Kronecker product of two mulitdimension NumPy arrays\n",
                "def kronecker_product(arr1, arr2):\n",
                "    return np.kron(arr1, arr2)\n",
                "\n",
                "kronecker_product(np.array([[1, 2], [3, 4]]), np.array([[5, 6], [7, 8]]))"
            ]
        },
        {
            "cell_type": "code",
            "execution_count": 46,
            "metadata": {},
            "outputs": [
                {
                    "data": {
                        "text/plain": [
                            "[[1, 2, 3], [4, 5, 6], [7, 8, 9]]"
                        ]
                    },
                    "execution_count": 46,
                    "metadata": {},
                    "output_type": "execute_result"
                }
            ],
            "source": [
                "# Convert the matrix into a list\n",
                "def to_list(arr):\n",
                "    return arr.tolist()\n",
                "\n",
                "to_list(np.array([[1, 2, 3], [4, 5, 6], [7, 8, 9]]))"
            ]
        },
        {
            "attachments": {},
            "cell_type": "markdown",
            "metadata": {},
            "source": [
                "# Questions on NumPy Indexing"
            ]
        },
        {
            "cell_type": "code",
            "execution_count": 47,
            "metadata": {},
            "outputs": [
                {
                    "data": {
                        "text/plain": [
                            "array([[0, 0, 0],\n",
                            "       [0, 5, 6],\n",
                            "       [7, 8, 9]])"
                        ]
                    },
                    "execution_count": 47,
                    "metadata": {},
                    "output_type": "execute_result"
                }
            ],
            "source": [
                "# Replace NumPy array elements that doesn’t satisfy the given condition\n",
                "def replace(arr):\n",
                "    arr[arr < 5] = 0\n",
                "    return arr\n",
                "\n",
                "replace(np.array([[1, 2, 3], [4, 5, 6], [7, 8, 9]]))"
            ]
        },
        {
            "cell_type": "code",
            "execution_count": 48,
            "metadata": {},
            "outputs": [
                {
                    "data": {
                        "text/plain": [
                            "(array([0, 0, 0, 1], dtype=int64), array([0, 1, 2, 0], dtype=int64))"
                        ]
                    },
                    "execution_count": 48,
                    "metadata": {},
                    "output_type": "execute_result"
                }
            ],
            "source": [
                "# Return the indices of elements where the given condition is satisfied\n",
                "def indices(arr):\n",
                "    return np.where(arr < 5)\n",
                "\n",
                "indices(np.array([[1, 2, 3], [4, 5, 6], [7, 8, 9]]))"
            ]
        },
        {
            "cell_type": "code",
            "execution_count": 49,
            "metadata": {},
            "outputs": [
                {
                    "data": {
                        "text/plain": [
                            "array([[ 1.,  2.,  3.],\n",
                            "       [ 4.,  5., 10.],\n",
                            "       [ 7.,  8.,  9.]])"
                        ]
                    },
                    "execution_count": 49,
                    "metadata": {},
                    "output_type": "execute_result"
                }
            ],
            "source": [
                "# Replace NaN values with average of columns\n",
                "def replace_nan(arr):\n",
                "    return np.nan_to_num(arr, nan=np.nanmean(arr, axis=0))\n",
                "\n",
                "replace_nan(np.array([[1, 2, 3], [4, np.nan, 10], [7, 8, 9]]))"
            ]
        },
        {
            "cell_type": "code",
            "execution_count": 50,
            "metadata": {},
            "outputs": [
                {
                    "data": {
                        "text/plain": [
                            "array([[1, 2, 3],\n",
                            "       [4, 0, 6],\n",
                            "       [7, 8, 9]])"
                        ]
                    },
                    "execution_count": 50,
                    "metadata": {},
                    "output_type": "execute_result"
                }
            ],
            "source": [
                "# Replace negative value with zero in numpy array\n",
                "def replace_negative(arr):\n",
                "    arr[arr < 0] = 0\n",
                "    return arr\n",
                "\n",
                "replace_negative(np.array([[1, 2, 3], [4, -5, 6], [7, 8, 9]]))"
            ]
        },
        {
            "cell_type": "code",
            "execution_count": 51,
            "metadata": {},
            "outputs": [
                {
                    "data": {
                        "text/plain": [
                            "array([1, 3, 5, 7])"
                        ]
                    },
                    "execution_count": 51,
                    "metadata": {},
                    "output_type": "execute_result"
                }
            ],
            "source": [
                "# How to get values of an NumPy array at certain index positions?\n",
                "def get_values(arr, indices):\n",
                "    return arr[indices]\n",
                "\n",
                "get_values(np.array([1, 2, 3, 4, 5, 6, 7, 8, 9]), np.array([0, 2, 4, 6]))"
            ]
        },
        {
            "cell_type": "code",
            "execution_count": 52,
            "metadata": {},
            "outputs": [
                {
                    "data": {
                        "text/plain": [
                            "(array([4], dtype=int64),)"
                        ]
                    },
                    "execution_count": 52,
                    "metadata": {},
                    "output_type": "execute_result"
                }
            ],
            "source": [
                "# Find indices of elements equal to zero in a NumPy array\n",
                "def zero_indices(arr):\n",
                "    return np.where(arr == 0)\n",
                "\n",
                "zero_indices(np.array([1, 2, 3, 4, 0, 6, 7, 8, 9]))\n"
            ]
        },
        {
            "cell_type": "code",
            "execution_count": 53,
            "metadata": {},
            "outputs": [
                {
                    "data": {
                        "text/plain": [
                            "array([[1., 3.],\n",
                            "       [4., 6.],\n",
                            "       [7., 9.]])"
                        ]
                    },
                    "execution_count": 53,
                    "metadata": {},
                    "output_type": "execute_result"
                }
            ],
            "source": [
                "# How to Remove columns in Numpy array that contains non-numeric values ?\n",
                "def remove_non_numeric(arr):\n",
                "    return arr[:, ~np.isnan(arr).any(axis=0)]\n",
                "\n",
                "remove_non_numeric(np.array([[1, 2, 3], [4, np.nan, 6], [7, 8, 9]]))"
            ]
        },
        {
            "cell_type": "code",
            "execution_count": 54,
            "metadata": {},
            "outputs": [
                {
                    "data": {
                        "text/plain": [
                            "array([[1, 2, 3],\n",
                            "       [7, 8, 9]])"
                        ]
                    },
                    "execution_count": 54,
                    "metadata": {},
                    "output_type": "execute_result"
                }
            ],
            "source": [
                "# How to access different rows of a multidimensional NumPy array?\n",
                "def access_rows(arr):\n",
                "    return arr[[0, 2]]\n",
                "\n",
                "access_rows(np.array([[1, 2, 3], [4, 5, 6], [7, 8, 9]]))"
            ]
        },
        {
            "cell_type": "code",
            "execution_count": 55,
            "metadata": {},
            "outputs": [
                {
                    "data": {
                        "text/plain": [
                            "array([1, 2, 2, 2], dtype=int64)"
                        ]
                    },
                    "execution_count": 55,
                    "metadata": {},
                    "output_type": "execute_result"
                }
            ],
            "source": [
                "# Get row numbers of NumPy array having element larger than `x`\n",
                "def row_numbers(arr, x):\n",
                "    return np.where(arr > x)[0]\n",
                "\n",
                "row_numbers(np.array([[1, 2, 3], [4, 5, 6], [7, 8, 9]]), 5)"
            ]
        },
        {
            "cell_type": "code",
            "execution_count": 56,
            "metadata": {},
            "outputs": [
                {
                    "data": {
                        "text/plain": [
                            "array([[0, 2, 3],\n",
                            "       [4, 0, 6],\n",
                            "       [7, 8, 0]])"
                        ]
                    },
                    "execution_count": 56,
                    "metadata": {},
                    "output_type": "execute_result"
                }
            ],
            "source": [
                "# Get filled the diagonals of NumPy array\n",
                "def fill_diagonal(arr):\n",
                "    np.fill_diagonal(arr, 0)\n",
                "    return arr\n",
                "\n",
                "fill_diagonal(np.array([[1, 2, 3], [4, 5, 6], [7, 8, 9]]))"
            ]
        },
        {
            "cell_type": "code",
            "execution_count": 57,
            "metadata": {},
            "outputs": [
                {
                    "data": {
                        "text/plain": [
                            "array([ True,  True,  True])"
                        ]
                    },
                    "execution_count": 57,
                    "metadata": {},
                    "output_type": "execute_result"
                }
            ],
            "source": [
                "# Check elements present in the NumPy array\n",
                "def check(arr, x):\n",
                "    return np.isin(x, arr)\n",
                "\n",
                "check(np.array([1, 2, 3, 4, 5, 6, 7, 8, 9]), np.array([1, 2, 3]))"
            ]
        },
        {
            "cell_type": "code",
            "execution_count": 58,
            "metadata": {},
            "outputs": [
                {
                    "data": {
                        "text/plain": [
                            "array([ 0.9906, -0.544 , -1.    ,  0.4121,  0.9894])"
                        ]
                    },
                    "execution_count": 58,
                    "metadata": {},
                    "output_type": "execute_result"
                }
            ],
            "source": [
                "# Combined array index by index\n",
                "def combine(a, b):\n",
                "    return np.sin(a + b)\n",
                "\n",
                "vcombine = np.vectorize(combine)\n",
                "\n",
                "vcombine(np.random.randint(0, 10, 5), np.random.randint(0, 10, 5))"
            ]
        },
        {
            "attachments": {},
            "cell_type": "markdown",
            "metadata": {},
            "source": [
                "# Questions on NumPy Linear Algebra"
            ]
        },
        {
            "cell_type": "code",
            "execution_count": 59,
            "metadata": {},
            "outputs": [
                {
                    "data": {
                        "text/plain": [
                            "16.881943016134134"
                        ]
                    },
                    "execution_count": 59,
                    "metadata": {},
                    "output_type": "execute_result"
                }
            ],
            "source": [
                "# Find a matrix or vector norm using NumPy\n",
                "def norm(arr):\n",
                "    return np.linalg.norm(arr)\n",
                "\n",
                "norm(np.array([1, 2, 3, 4, 5, 6, 7, 8, 9]))"
            ]
        },
        {
            "cell_type": "code",
            "execution_count": 60,
            "metadata": {},
            "outputs": [
                {
                    "data": {
                        "text/plain": [
                            "(array([[-0.1231,  0.9045,  0.4082],\n",
                            "        [-0.4924,  0.3015, -0.8165],\n",
                            "        [-0.8616, -0.3015,  0.4082]]),\n",
                            " array([[ -8.124 ,  -9.6011, -11.0782],\n",
                            "        [  0.    ,   0.9045,   1.8091],\n",
                            "        [  0.    ,   0.    ,  -0.    ]]))"
                        ]
                    },
                    "execution_count": 60,
                    "metadata": {},
                    "output_type": "execute_result"
                }
            ],
            "source": [
                "# Calculate the QR decomposition of a given matrix using NumPy\n",
                "def qr(arr):\n",
                "    return np.linalg.qr(arr)\n",
                "\n",
                "qr(np.array([[1, 2, 3], [4, 5, 6], [7, 8, 9]]))"
            ]
        },
        {
            "cell_type": "code",
            "execution_count": 61,
            "metadata": {},
            "outputs": [
                {
                    "data": {
                        "text/plain": [
                            "5.0522794445385096e+16"
                        ]
                    },
                    "execution_count": 61,
                    "metadata": {},
                    "output_type": "execute_result"
                }
            ],
            "source": [
                "# Compute the condition number of a given matrix using NumPy\n",
                "def condition_number(arr):\n",
                "    return np.linalg.cond(arr)\n",
                "\n",
                "condition_number(np.array([[1, 2, 3], [4, 5, 6], [7, 8, 9]]))"
            ]
        },
        {
            "cell_type": "code",
            "execution_count": 62,
            "metadata": {},
            "outputs": [
                {
                    "data": {
                        "text/plain": [
                            "(array([16.1168, -1.1168, -0.    ]),\n",
                            " array([[-0.232 , -0.7858,  0.4082],\n",
                            "        [-0.5253, -0.0868, -0.8165],\n",
                            "        [-0.8187,  0.6123,  0.4082]]))"
                        ]
                    },
                    "execution_count": 62,
                    "metadata": {},
                    "output_type": "execute_result"
                }
            ],
            "source": [
                "# Compute the eigenvalues and right eigenvectors of a given square array using NumPy\n",
                "def eigen(arr):\n",
                "    return np.linalg.eig(arr)\n",
                "\n",
                "eigen(np.array([[1, 2, 3], [4, 5, 6], [7, 8, 9]]))"
            ]
        },
        {
            "cell_type": "code",
            "execution_count": 63,
            "metadata": {},
            "outputs": [
                {
                    "data": {
                        "text/plain": [
                            "15.491933384829668"
                        ]
                    },
                    "execution_count": 63,
                    "metadata": {},
                    "output_type": "execute_result"
                }
            ],
            "source": [
                "# Calculate the Euclidean distance using NumPy\n",
                "def euclidean_distance(arr1, arr2):\n",
                "    return np.linalg.norm(arr1 - arr2)\n",
                "\n",
                "euclidean_distance(np.array([1, 2, 3, 4, 5, 6, 7, 8, 9]), np.array([9, 8, 7, 6, 5, 4, 3, 2, 1]))"
            ]
        },
        {
            "attachments": {},
            "cell_type": "markdown",
            "metadata": {},
            "source": [
                "# Questions on NumPy Random"
            ]
        },
        {
            "cell_type": "code",
            "execution_count": 64,
            "metadata": {},
            "outputs": [
                {
                    "data": {
                        "text/plain": [
                            "array([[0.2847, 0.8641, 0.9322],\n",
                            "       [0.7794, 0.7017, 0.4108],\n",
                            "       [0.4913, 0.8102, 0.0804]])"
                        ]
                    },
                    "execution_count": 64,
                    "metadata": {},
                    "output_type": "execute_result"
                }
            ],
            "source": [
                "# Create a Numpy array with random values\n",
                "def random_array(shape):\n",
                "    return np.random.random(shape)\n",
                "\n",
                "random_array((3, 3))"
            ]
        },
        {
            "cell_type": "code",
            "execution_count": 65,
            "metadata": {},
            "outputs": [
                {
                    "name": "stdout",
                    "output_type": "stream",
                    "text": [
                        "Probabilities:  [0.1522 0.0652 0.0217 0.1304 0.1739 0.0652 0.087  0.1522 0.1522]\n"
                    ]
                },
                {
                    "data": {
                        "text/plain": [
                            "array([8, 9, 5, 8, 1, 8, 5, 1, 6])"
                        ]
                    },
                    "execution_count": 65,
                    "metadata": {},
                    "output_type": "execute_result"
                }
            ],
            "source": [
                "# How to choose elements from the list with different probability using NumPy?\n",
                "# OR\n",
                "# # How to get weighted random choice in Python?\n",
                "\n",
                "def choice(arr, size, probs=None):\n",
                "    if probs is None:\n",
                "        probs = np.ones(len(arr)) / len(arr) # uniform distribution\n",
                "    return np.random.choice(arr, size, p=probs)\n",
                "\n",
                "probs = np.random.randint(1, 10, 9)\n",
                "probs = probs / probs.sum() # normalize\n",
                "print(\"Probabilities: \", probs)\n",
                "choice(np.array([1, 2, 3, 4, 5, 6, 7, 8, 9]), 9, probs)"
            ]
        },
        {
            "cell_type": "code",
            "execution_count": 66,
            "metadata": {},
            "outputs": [
                {
                    "data": {
                        "text/plain": [
                            "array([0.5012, 0.5534, 0.9933, 0.0184, 0.8059, 0.0308, 0.7383, 0.0408,\n",
                            "       0.3553, 0.8209])"
                        ]
                    },
                    "execution_count": 66,
                    "metadata": {},
                    "output_type": "execute_result"
                }
            ],
            "source": [
                "# Generate Random Numbers From The Uniform Distribution using NumPy\n",
                "def uniform(low, high, size):\n",
                "    return np.random.uniform(low, high, size)\n",
                "\n",
                "uniform(0, 1, 10)"
            ]
        },
        {
            "cell_type": "code",
            "execution_count": 67,
            "metadata": {},
            "outputs": [
                {
                    "data": {
                        "text/plain": [
                            "array([1, 1, 8, 3, 3, 2, 1, 8, 3, 5])"
                        ]
                    },
                    "execution_count": 67,
                    "metadata": {},
                    "output_type": "execute_result"
                }
            ],
            "source": [
                "# Get Random Elements form geometric distribution\n",
                "def geometric(p, size):\n",
                "    return np.random.geometric(p, size)\n",
                "\n",
                "geometric(0.35, 10)"
            ]
        },
        {
            "cell_type": "code",
            "execution_count": 68,
            "metadata": {},
            "outputs": [
                {
                    "data": {
                        "text/plain": [
                            "array([11.1406, 14.6119, 19.042 , 13.9864, 16.012 , 15.4657,  9.3068,\n",
                            "       13.468 , 15.3477, 14.8079])"
                        ]
                    },
                    "execution_count": 68,
                    "metadata": {},
                    "output_type": "execute_result"
                }
            ],
            "source": [
                "# Get Random elements from Laplace distribution\n",
                "def laplace(loc, scale, size):\n",
                "    return np.random.laplace(loc, scale, size)\n",
                "\n",
                "laplace(15, 3, 10)"
            ]
        },
        {
            "cell_type": "code",
            "execution_count": 69,
            "metadata": {},
            "outputs": [
                {
                    "data": {
                        "text/plain": [
                            "array([[0.1143, 0.1609, 0.0153],\n",
                            "       [0.8899, 0.1871, 0.0743],\n",
                            "       [0.0937, 0.7261, 0.0503]])"
                        ]
                    },
                    "execution_count": 69,
                    "metadata": {},
                    "output_type": "execute_result"
                }
            ],
            "source": [
                "# Return a Matrix of random values from a uniform distribution\n",
                "def uniform_matrix(low, high, shape):\n",
                "    return np.random.uniform(low, high, shape)\n",
                "\n",
                "uniform_matrix(0, 1, (3, 3))"
            ]
        },
        {
            "cell_type": "code",
            "execution_count": 70,
            "metadata": {},
            "outputs": [
                {
                    "data": {
                        "text/plain": [
                            "array([[-0.0579, -0.0112,  0.0031],\n",
                            "       [ 0.023 ,  0.9905,  0.9108],\n",
                            "       [-1.3532,  1.0237,  1.4037]])"
                        ]
                    },
                    "execution_count": 70,
                    "metadata": {},
                    "output_type": "execute_result"
                }
            ],
            "source": [
                "# Return a Matrix of random values from a Gaussian distribution\n",
                "def gaussian_matrix(mean, std, shape):\n",
                "    return np.random.normal(mean, std, shape)\n",
                "\n",
                "gaussian_matrix(0, 1, (3, 3))"
            ]
        },
        {
            "attachments": {},
            "cell_type": "markdown",
            "metadata": {},
            "source": [
                "# Questions on NumPy Sorting and Searching"
            ]
        },
        {
            "cell_type": "code",
            "execution_count": 71,
            "metadata": {},
            "outputs": [
                {
                    "data": {
                        "text/plain": [
                            "array([0, 2, 1, 3, 7, 5, 6, 4, 8], dtype=int64)"
                        ]
                    },
                    "execution_count": 71,
                    "metadata": {},
                    "output_type": "execute_result"
                }
            ],
            "source": [
                "# How to get the indices of the sorted array using NumPy in Python?\n",
                "def indices(arr):\n",
                "    return np.argsort(arr)\n",
                "\n",
                "indices(np.array([1, 3, 2, 4, 8, 6, 7, 5, 9]))"
            ]
        },
        {
            "cell_type": "code",
            "execution_count": 72,
            "metadata": {},
            "outputs": [
                {
                    "data": {
                        "text/plain": [
                            "array([1, 2, 3])"
                        ]
                    },
                    "execution_count": 72,
                    "metadata": {},
                    "output_type": "execute_result"
                }
            ],
            "source": [
                "# Finding the k smallest values of a NumPy array\n",
                "def k_smallest(arr, k):\n",
                "    return arr[np.argsort(arr)[:k]]\n",
                "\n",
                "k_smallest(np.array([1, 3, 2, 4, 8, 6, 7, 5, 9]), 3)"
            ]
        },
        {
            "cell_type": "code",
            "execution_count": 73,
            "metadata": {},
            "outputs": [
                {
                    "data": {
                        "text/plain": [
                            "array([7, 8, 9])"
                        ]
                    },
                    "execution_count": 73,
                    "metadata": {},
                    "output_type": "execute_result"
                }
            ],
            "source": [
                "# How to get the n-largest values of an array using NumPy?\n",
                "def n_largest(arr, n):\n",
                "    return arr[np.argsort(arr)[-n:]]\n",
                "\n",
                "n_largest(np.array([1, 3, 2, 4, 8, 6, 7, 5, 9]), 3)"
            ]
        },
        {
            "cell_type": "code",
            "execution_count": 74,
            "metadata": {},
            "outputs": [
                {
                    "data": {
                        "text/plain": [
                            "array([[1, 2, 3, 4, 5, 6, 7, 8, 9],\n",
                            "       [1, 2, 3, 4, 5, 6, 7, 8, 9]])"
                        ]
                    },
                    "execution_count": 74,
                    "metadata": {},
                    "output_type": "execute_result"
                }
            ],
            "source": [
                "# Sort the values in a matrix\n",
                "def sort_matrix(arr):\n",
                "    return np.sort(arr, axis=1)\n",
                "\n",
                "sort_matrix(np.array([[1, 3, 2, 4, 8, 6, 7, 5, 9], [9, 8, 7, 6, 5, 4, 3, 2, 1]]))"
            ]
        },
        {
            "cell_type": "code",
            "execution_count": 75,
            "metadata": {},
            "outputs": [
                {
                    "data": {
                        "text/plain": [
                            "array([1.2, 2.2])"
                        ]
                    },
                    "execution_count": 75,
                    "metadata": {},
                    "output_type": "execute_result"
                }
            ],
            "source": [
                "# Filter out integers from float numpy array\n",
                "def filter_integers(arr):\n",
                "    return arr[arr != arr.astype(int)]\n",
                " \n",
                "filter_integers(np.array([1.0, 1.2, 2.2, 2.0, 3.0, 2.0]))"
            ]
        },
        {
            "cell_type": "code",
            "execution_count": 76,
            "metadata": {},
            "outputs": [
                {
                    "data": {
                        "text/plain": [
                            "4"
                        ]
                    },
                    "execution_count": 76,
                    "metadata": {},
                    "output_type": "execute_result"
                }
            ],
            "source": [
                "# Find the indices into a sorted array\n",
                "def indices(arr, v):\n",
                "    return np.searchsorted(arr, v)\n",
                "\n",
                "indices(np.array([1, 2, 3, 4, 5, 6, 7, 8, 9]), 5)"
            ]
        },
        {
            "attachments": {},
            "cell_type": "markdown",
            "metadata": {},
            "source": [
                "# Questions on NumPy Mathematics"
            ]
        },
        {
            "cell_type": "code",
            "execution_count": 77,
            "metadata": {},
            "outputs": [
                {
                    "data": {
                        "text/plain": [
                            "array([0.1111, 0.25  , 0.4286, 0.6667, 1.    , 1.5   , 2.3333, 4.    ,\n",
                            "       9.    ])"
                        ]
                    },
                    "execution_count": 77,
                    "metadata": {},
                    "output_type": "execute_result"
                }
            ],
            "source": [
                "# How to get element-wise true division of an array using Numpy?\n",
                "def true_divide(arr1, arr2):\n",
                "    return np.true_divide(arr1, arr2)\n",
                "\n",
                "true_divide(np.array([1, 2, 3, 4, 5, 6, 7, 8, 9]), np.array([9, 8, 7, 6, 5, 4, 3, 2, 1]))"
            ]
        },
        {
            "cell_type": "code",
            "execution_count": 78,
            "metadata": {},
            "outputs": [
                {
                    "data": {
                        "text/plain": [
                            "array([1, 2, 3, 4, 5, 6, 7, 8, 9])"
                        ]
                    },
                    "execution_count": 78,
                    "metadata": {},
                    "output_type": "execute_result"
                }
            ],
            "source": [
                "# How to calculate the element-wise absolute value of NumPy array?\n",
                "def absolute(arr):\n",
                "    return np.absolute(arr)\n",
                "\n",
                "absolute(np.array([-1, -2, -3, -4, -5, -6, -7, -8, -9]))"
            ]
        },
        {
            "cell_type": "code",
            "execution_count": 79,
            "metadata": {},
            "outputs": [
                {
                    "data": {
                        "text/plain": [
                            "array([-1, -2, -3, -4, -5, -6, -7, -8, -9])"
                        ]
                    },
                    "execution_count": 79,
                    "metadata": {},
                    "output_type": "execute_result"
                }
            ],
            "source": [
                "# Compute the negative of the NumPy array\n",
                "# OR\n",
                "# How to compute numerical negative value for all elements in a given NumPy array?\n",
                "def negative(arr):\n",
                "    return np.negative(arr)\n",
                "\n",
                "negative(np.array([1, 2, 3, 4, 5, 6, 7, 8, 9]))"
            ]
        },
        {
            "cell_type": "code",
            "execution_count": 80,
            "metadata": {},
            "outputs": [
                {
                    "data": {
                        "text/plain": [
                            "array([[ 0,  0,  0],\n",
                            "       [ 4,  5,  6],\n",
                            "       [14, 16, 18]])"
                        ]
                    },
                    "execution_count": 80,
                    "metadata": {},
                    "output_type": "execute_result"
                }
            ],
            "source": [
                "# Multiply 2d numpy array corresponding to 1d array\n",
                "def multiply(arr1, arr2):\n",
                "    return arr1 * arr2[:, None]\n",
                "\n",
                "multiply(np.array([[1, 2, 3], [4, 5, 6], [7, 8, 9]]), np.array([0, 1, 2]))"
            ]
        },
        {
            "cell_type": "code",
            "execution_count": 81,
            "metadata": {},
            "outputs": [
                {
                    "data": {
                        "text/plain": [
                            "165"
                        ]
                    },
                    "execution_count": 81,
                    "metadata": {},
                    "output_type": "execute_result"
                }
            ],
            "source": [
                "# Computes the inner product of two arrays\n",
                "def inner_product(arr1, arr2):\n",
                "    return np.inner(arr1, arr2)\n",
                "\n",
                "inner_product(np.array([1, 2, 3, 4, 5, 6, 7, 8, 9]), np.array([9, 8, 7, 6, 5, 4, 3, 2, 1]))"
            ]
        },
        {
            "cell_type": "code",
            "execution_count": 82,
            "metadata": {},
            "outputs": [
                {
                    "data": {
                        "text/plain": [
                            "5.0"
                        ]
                    },
                    "execution_count": 82,
                    "metadata": {},
                    "output_type": "execute_result"
                }
            ],
            "source": [
                "# Compute the nth percentile of the NumPy array\n",
                "def percentile(arr, n):\n",
                "    return np.percentile(arr, n)\n",
                "\n",
                "percentile(np.array([1, 2, 3, 4, 5, 6, 7, 8, 9]), 50)"
            ]
        },
        {
            "cell_type": "code",
            "execution_count": 83,
            "metadata": {},
            "outputs": [
                {
                    "data": {
                        "text/plain": [
                            "array([1, 1, 1, 1, 1, 1, 1, 1])"
                        ]
                    },
                    "execution_count": 83,
                    "metadata": {},
                    "output_type": "execute_result"
                }
            ],
            "source": [
                "# Calculate the n-th order discrete difference along the given axis\n",
                "def difference(arr, n, axis):\n",
                "    return np.diff(arr, n, axis)\n",
                "\n",
                "difference(np.array([1, 2, 3, 4, 5, 6, 7, 8, 9]), 1, 0)"
            ]
        },
        {
            "cell_type": "code",
            "execution_count": 84,
            "metadata": {},
            "outputs": [
                {
                    "data": {
                        "text/plain": [
                            "array([10, 10, 10, 10, 10, 10, 10, 10, 10])"
                        ]
                    },
                    "execution_count": 84,
                    "metadata": {},
                    "output_type": "execute_result"
                }
            ],
            "source": [
                "# Calculate the sum of all columns in a 2D NumPy array\n",
                "def sum_columns(arr):\n",
                "    return np.sum(arr, axis=0)\n",
                "\n",
                "sum_columns(np.array([[1, 2, 3, 4, 5, 6, 7, 8, 9], [9, 8, 7, 6, 5, 4, 3, 2, 1]]))"
            ]
        },
        {
            "cell_type": "code",
            "execution_count": 85,
            "metadata": {},
            "outputs": [
                {
                    "data": {
                        "text/plain": [
                            "array([5., 5., 5.])"
                        ]
                    },
                    "execution_count": 85,
                    "metadata": {},
                    "output_type": "execute_result"
                }
            ],
            "source": [
                "# Calculate average values of two given NumPy arrays\n",
                "def average(arr1, arr2):\n",
                "    return 0.5*(arr1 + arr2)\n",
                "\n",
                "average(np.array([1, 2, 3]), np.array([9, 8, 7]))"
            ]
        },
        {
            "cell_type": "code",
            "execution_count": 86,
            "metadata": {},
            "outputs": [
                {
                    "name": "stdout",
                    "output_type": "stream",
                    "text": [
                        "Floor\t\t [1. 2. 3. 4. 5. 6. 7. 8. 9.]\n",
                        "Ceiling\t\t [ 2.  3.  4.  5.  6.  7.  8.  9. 10.]\n",
                        "Truncated\t [1. 2. 3. 4. 5. 6. 7. 8. 9.]\n"
                    ]
                }
            ],
            "source": [
                "# How to get the floor, ceiling and truncated values of the elements of a numpy array?\n",
                "# Floor\n",
                "\n",
                "arr = np.array([1.1, 2.2, 3.3, 4.4, 5.5, 6.6, 7.7, 8.8, 9.9])\n",
                "\n",
                "def floor(arr):\n",
                "    return np.floor(arr)\n",
                "\n",
                "print(\"Floor\\t\\t\", floor(arr))\n",
                "\n",
                "# Ceiling\n",
                "def ceiling(arr):\n",
                "    return np.ceil(arr)\n",
                "\n",
                "print(\"Ceiling\\t\\t\", ceiling(arr))\n",
                "\n",
                "# Truncated\n",
                "def truncated(arr):\n",
                "    return np.trunc(arr)\n",
                "\n",
                "print(\"Truncated\\t\", truncated(arr))"
            ]
        },
        {
            "cell_type": "code",
            "execution_count": 87,
            "metadata": {},
            "outputs": [
                {
                    "data": {
                        "text/plain": [
                            "array([ 1.,  2.,  3.,  4.,  6.,  7.,  8.,  9., 10.])"
                        ]
                    },
                    "execution_count": 87,
                    "metadata": {},
                    "output_type": "execute_result"
                }
            ],
            "source": [
                "# How to round elements of the NumPy array to the nearest integer ?\n",
                "def round(arr):\n",
                "    return np.rint(arr)\n",
                "\n",
                "round(arr)"
            ]
        },
        {
            "cell_type": "code",
            "execution_count": 88,
            "metadata": {},
            "outputs": [
                {
                    "data": {
                        "text/plain": [
                            "array([[ 1.,  2.,  3.,  4.,  6.,  7.,  8.,  9., 10.],\n",
                            "       [10.,  9.,  8.,  7.,  6.,  4.,  3.,  2.,  1.]])"
                        ]
                    },
                    "execution_count": 88,
                    "metadata": {},
                    "output_type": "execute_result"
                }
            ],
            "source": [
                "# Find the round off the values of the given matrix\n",
                "def round_matrix(arr):\n",
                "    return np.round(arr)\n",
                "\n",
                "round_matrix(np.array([[1.1, 2.2, 3.3, 4.4, 5.5, 6.6, 7.7, 8.8, 9.9], [9.9, 8.8, 7.7, 6.6, 5.5, 4.4, 3.3, 2.2, 1.1]]))"
            ]
        },
        {
            "cell_type": "code",
            "execution_count": 89,
            "metadata": {},
            "outputs": [
                {
                    "data": {
                        "text/plain": [
                            "array([1.    , 1.4142, 1.7321, 2.    , 2.2361, 2.4495, 2.6458, 2.8284,\n",
                            "       3.    ])"
                        ]
                    },
                    "execution_count": 89,
                    "metadata": {},
                    "output_type": "execute_result"
                }
            ],
            "source": [
                "# Determine the positive square-root of an array\n",
                "def sqrt(arr):\n",
                "    return np.sqrt(arr)\n",
                "\n",
                "sqrt(np.array([1, 2, 3, 4, 5, 6, 7, 8, 9]))"
            ]
        },
        {
            "cell_type": "code",
            "execution_count": 90,
            "metadata": {},
            "outputs": [
                {
                    "data": {
                        "text/plain": [
                            "array([[19, 22],\n",
                            "       [43, 50]])"
                        ]
                    },
                    "execution_count": 90,
                    "metadata": {},
                    "output_type": "execute_result"
                }
            ],
            "source": [
                "# Evaluate Einstein’s summation convention of two multidimensional NumPy arrays\n",
                "def einstein(arr1, arr2):\n",
                "    return np.einsum(\"mk,kn\", arr1, arr2)\n",
                "\n",
                "einstein(np.array([[1, 2], [3, 4]]), np.array([[5, 6], [7, 8]]))"
            ]
        },
        {
            "cell_type": "code",
            "execution_count": 91,
            "metadata": {},
            "outputs": [
                {
                    "data": {
                        "text/plain": [
                            "5.0"
                        ]
                    },
                    "execution_count": 91,
                    "metadata": {},
                    "output_type": "execute_result"
                }
            ],
            "source": [
                "# Compute the median of the flattened NumPy array\n",
                "def median(arr):\n",
                "    return np.median(arr)\n",
                "\n",
                "median(np.array([1, 2, 3, 4, 5, 6, 7, 8, 9]))"
            ]
        },
        {
            "cell_type": "code",
            "execution_count": 92,
            "metadata": {},
            "outputs": [
                {
                    "data": {
                        "text/plain": [
                            "5.0"
                        ]
                    },
                    "execution_count": 92,
                    "metadata": {},
                    "output_type": "execute_result"
                }
            ],
            "source": [
                "# Find Mean of a List of Numpy Array\n",
                "def mean(arr):\n",
                "    return np.mean(arr)\n",
                "\n",
                "mean(np.array([1, 2, 3, 4, 5, 6, 7, 8, 9]))"
            ]
        },
        {
            "cell_type": "code",
            "execution_count": 93,
            "metadata": {},
            "outputs": [
                {
                    "data": {
                        "text/plain": [
                            "5.0"
                        ]
                    },
                    "execution_count": 93,
                    "metadata": {},
                    "output_type": "execute_result"
                }
            ],
            "source": [
                "# Calculate the mean of array ignoring the NaN value\n",
                "def mean_ignore_nan(arr):\n",
                "    return np.nanmean(arr)\n",
                "\n",
                "mean_ignore_nan(np.array([np.nan, 2, np.nan, 4, np.nan, 6, np.nan, 8, np.nan]))"
            ]
        },
        {
            "cell_type": "code",
            "execution_count": 94,
            "metadata": {},
            "outputs": [
                {
                    "data": {
                        "text/plain": [
                            "5.0"
                        ]
                    },
                    "execution_count": 94,
                    "metadata": {},
                    "output_type": "execute_result"
                }
            ],
            "source": [
                "# Get the mean value from given matrix\n",
                "def mean_matrix(arr):\n",
                "    return np.mean(arr)\n",
                "\n",
                "mean_matrix(np.array([[1, 2, 3, 4, 5, 6, 7, 8, 9], [9, 8, 7, 6, 5, 4, 3, 2, 1]]))"
            ]
        },
        {
            "cell_type": "code",
            "execution_count": 95,
            "metadata": {},
            "outputs": [
                {
                    "data": {
                        "text/plain": [
                            "6.666666666666667"
                        ]
                    },
                    "execution_count": 95,
                    "metadata": {},
                    "output_type": "execute_result"
                }
            ],
            "source": [
                "# Compute the variance of the NumPy array\n",
                "def variance(arr):\n",
                "    return np.var(arr)\n",
                "\n",
                "variance(np.array([1, 2, 3, 4, 5, 6, 7, 8, 9]))"
            ]
        },
        {
            "cell_type": "code",
            "execution_count": 96,
            "metadata": {},
            "outputs": [
                {
                    "data": {
                        "text/plain": [
                            "2.581988897471611"
                        ]
                    },
                    "execution_count": 96,
                    "metadata": {},
                    "output_type": "execute_result"
                }
            ],
            "source": [
                "# Compute the standard deviation of the NumPy array\n",
                "def standard_deviation(arr):\n",
                "    return np.std(arr)\n",
                "\n",
                "standard_deviation(np.array([1, 2, 3, 4, 5, 6, 7, 8, 9]))"
            ]
        },
        {
            "cell_type": "code",
            "execution_count": 97,
            "metadata": {},
            "outputs": [
                {
                    "data": {
                        "text/plain": [
                            "array([[ 1., -1.],\n",
                            "       [-1.,  1.]])"
                        ]
                    },
                    "execution_count": 97,
                    "metadata": {},
                    "output_type": "execute_result"
                }
            ],
            "source": [
                "# Compute pearson product-moment correlation coefficients of two given NumPy arrays\n",
                "def pearson(arr1, arr2):\n",
                "    return np.corrcoef(arr1, arr2)\n",
                "\n",
                "pearson(np.array([1, 2, 3, 4, 5, 6, 7, 8, 9]), np.array([9, 8, 7, 6, 5, 4, 3, 2, 1]))"
            ]
        },
        {
            "cell_type": "code",
            "execution_count": 98,
            "metadata": {},
            "outputs": [
                {
                    "data": {
                        "text/plain": [
                            "array([5., 5., 5., 5., 5., 5., 5., 5., 5.])"
                        ]
                    },
                    "execution_count": 98,
                    "metadata": {},
                    "output_type": "execute_result"
                }
            ],
            "source": [
                "# Calculate the mean across dimension in a 2D NumPy array\n",
                "def mean_dimension(arr):\n",
                "    return np.mean(arr, axis=0)\n",
                "\n",
                "mean_dimension(np.array([[1, 2, 3, 4, 5, 6, 7, 8, 9], [9, 8, 7, 6, 5, 4, 3, 2, 1]]))"
            ]
        },
        {
            "cell_type": "code",
            "execution_count": 99,
            "metadata": {},
            "outputs": [
                {
                    "data": {
                        "text/plain": [
                            "array([[ 7.5, -7.5],\n",
                            "       [-7.5,  7.5]])"
                        ]
                    },
                    "execution_count": 99,
                    "metadata": {},
                    "output_type": "execute_result"
                }
            ],
            "source": [
                "# Compute the covariance matrix of the two given NumPy arrays\n",
                "def covariance(arr1, arr2):\n",
                "    return np.cov(arr1, arr2)\n",
                "\n",
                "covariance(np.array([1, 2, 3, 4, 5, 6, 7, 8, 9]), np.array([9, 8, 7, 6, 5, 4, 3, 2, 1]))"
            ]
        },
        {
            "cell_type": "code",
            "execution_count": 100,
            "metadata": {},
            "outputs": [],
            "source": [
                "# Describe a NumPy Array in Python\n",
                "\n",
                "# NumPy arrays are efficient data structures for storing and manipulating large amounts of homogeneous data in Python.\n",
                "# Source: `OpenAi ChatGPT` accessed on 2023-02-17"
            ]
        },
        {
            "cell_type": "markdown",
            "metadata": {},
            "source": [
                "# Questions on Polynomial"
            ]
        },
        {
            "cell_type": "code",
            "execution_count": 101,
            "metadata": {},
            "outputs": [
                {
                    "data": {
                        "text/plain": [
                            "poly1d([1, 2, 3, 4, 5, 6, 7, 8, 9])"
                        ]
                    },
                    "execution_count": 101,
                    "metadata": {},
                    "output_type": "execute_result"
                }
            ],
            "source": [
                "# Define a polynomial function\n",
                "def polynomial(arr):\n",
                "    return np.poly1d(arr)\n",
                "\n",
                "polynomial(np.array([1, 2, 3, 4, 5, 6, 7, 8, 9]))"
            ]
        },
        {
            "cell_type": "code",
            "execution_count": 102,
            "metadata": {},
            "outputs": [
                {
                    "data": {
                        "text/plain": [
                            "array([5, 7, 9])"
                        ]
                    },
                    "execution_count": 102,
                    "metadata": {},
                    "output_type": "execute_result"
                }
            ],
            "source": [
                "# How to add one polynomial to another using NumPy in Python?\n",
                "def add_polynomial(arr1, arr2):\n",
                "    return np.polyadd(arr1, arr2)\n",
                "\n",
                "add_polynomial(np.array([1, 2, 3]), np.array([4, 5, 6]))"
            ]
        },
        {
            "cell_type": "code",
            "execution_count": 103,
            "metadata": {},
            "outputs": [
                {
                    "data": {
                        "text/plain": [
                            "array([-3, -3, -3])"
                        ]
                    },
                    "execution_count": 103,
                    "metadata": {},
                    "output_type": "execute_result"
                }
            ],
            "source": [
                "# How to subtract one polynomial to another using NumPy in Python?\n",
                "def subtract_polynomial(arr1, arr2):\n",
                "    return np.polysub(arr1, arr2)\n",
                "\n",
                "subtract_polynomial(np.array([1, 2, 3]), np.array([4, 5, 6]))"
            ]
        },
        {
            "cell_type": "code",
            "execution_count": 104,
            "metadata": {},
            "outputs": [
                {
                    "data": {
                        "text/plain": [
                            "array([ 4, 13, 28, 27, 18])"
                        ]
                    },
                    "execution_count": 104,
                    "metadata": {},
                    "output_type": "execute_result"
                }
            ],
            "source": [
                "# How to multiply a polynomial to another using NumPy in Python?\n",
                "def multiply_polynomial(arr1, arr2):\n",
                "    return np.polymul(arr1, arr2)\n",
                "\n",
                "multiply_polynomial(np.array([1, 2, 3]), np.array([4, 5, 6]))"
            ]
        },
        {
            "cell_type": "code",
            "execution_count": 105,
            "metadata": {},
            "outputs": [
                {
                    "data": {
                        "text/plain": [
                            "(array([0.25]), array([0.75, 1.5 ]))"
                        ]
                    },
                    "execution_count": 105,
                    "metadata": {},
                    "output_type": "execute_result"
                }
            ],
            "source": [
                "# How to divide a polynomial to another using NumPy in Python?\n",
                "def divide_polynomial(arr1, arr2):\n",
                "    return np.polydiv(arr1, arr2)\n",
                "\n",
                "divide_polynomial(np.array([1, 2, 3]), np.array([4, 5, 6]))"
            ]
        },
        {
            "cell_type": "code",
            "execution_count": 106,
            "metadata": {},
            "outputs": [
                {
                    "data": {
                        "text/plain": [
                            "array([-1.+1.4142j, -1.-1.4142j])"
                        ]
                    },
                    "execution_count": 106,
                    "metadata": {},
                    "output_type": "execute_result"
                }
            ],
            "source": [
                "# Find the roots of the polynomials using NumPy\n",
                "def roots_polynomial(arr):\n",
                "    return np.roots(arr)\n",
                "\n",
                "roots_polynomial(np.array([1, 2, 3]))"
            ]
        },
        {
            "cell_type": "code",
            "execution_count": 107,
            "metadata": {},
            "outputs": [
                {
                    "data": {
                        "text/plain": [
                            "array([[3271., 5025.],\n",
                            "       [4107., 6309.]])"
                        ]
                    },
                    "execution_count": 107,
                    "metadata": {},
                    "output_type": "execute_result"
                }
            ],
            "source": [
                "# Evaluate a 2-D polynomial series on the Cartesian product\n",
                "from numpy.polynomial.polynomial import polygrid2d\n",
                "\n",
                "def evaluate_polynomial_2d(arr, grid):\n",
                "    return polygrid2d(grid[0], grid[1], arr)\n",
                "\n",
                "arr = np.array([[1, 3, 5], [2, 4, 6]])\n",
                "grid = np.array([[7, 9], [8, 10]])\n",
                "\n",
                "evaluate_polynomial_2d(arr, grid)"
            ]
        },
        {
            "cell_type": "code",
            "execution_count": 108,
            "metadata": {},
            "outputs": [
                {
                    "data": {
                        "text/plain": [
                            "array([[1.3317e+08, 1.6551e+08, 2.0137e+08],\n",
                            "       [1.7280e+08, 2.1476e+08, 2.6129e+08],\n",
                            "       [2.1759e+08, 2.7044e+08, 3.2903e+08]])"
                        ]
                    },
                    "execution_count": 108,
                    "metadata": {},
                    "output_type": "execute_result"
                }
            ],
            "source": [
                "# Evaluate a 3-D polynomial series on the Cartesian product\n",
                "from numpy.polynomial.polynomial import polygrid3d\n",
                "\n",
                "def evaluate_polynomial_3d(arr, grid):\n",
                "    return polygrid3d(grid[0], grid[1], grid[2], arr)\n",
                "\n",
                "arr = np.array([[1, 3, 5], [2, 4, 6], [3, 5, 7]])\n",
                "grid = np.array([[13, 15, 17], [14, 16, 18], [17, 19, 21]])\n",
                "\n",
                "evaluate_polynomial_3d(arr, grid)"
            ]
        },
        {
            "attachments": {},
            "cell_type": "markdown",
            "metadata": {},
            "source": [
                "# Questions on NumPy Strings"
            ]
        },
        {
            "cell_type": "code",
            "execution_count": 109,
            "metadata": {},
            "outputs": [
                {
                    "data": {
                        "text/plain": [
                            "array(['aaa', 'bbb', 'ccc'], dtype='<U3')"
                        ]
                    },
                    "execution_count": 109,
                    "metadata": {},
                    "output_type": "execute_result"
                }
            ],
            "source": [
                "# Repeat all the elements of a NumPy array of strings\n",
                "def repeat(arr):\n",
                "    return np.char.multiply(arr, 3)\n",
                "\n",
                "repeat(np.array([\"a\", \"b\", \"c\"]))"
            ]
        },
        {
            "cell_type": "code",
            "execution_count": 110,
            "metadata": {},
            "outputs": [
                {
                    "data": {
                        "text/plain": [
                            "array([list(['a', 'b', 'c']), list(['d', 'e', 'f'])], dtype=object)"
                        ]
                    },
                    "execution_count": 110,
                    "metadata": {},
                    "output_type": "execute_result"
                }
            ],
            "source": [
                "# How to split the element of a given NumPy array with spaces?\n",
                "def split(arr):\n",
                "    return np.char.split(arr)\n",
                "\n",
                "split(np.array([\"a b c\", \"d e f\"]))"
            ]
        },
        {
            "cell_type": "code",
            "execution_count": 111,
            "metadata": {},
            "outputs": [
                {
                    "data": {
                        "text/plain": [
                            "array(['a a a', 'b b b', 'c c c'], dtype='<U5')"
                        ]
                    },
                    "execution_count": 111,
                    "metadata": {},
                    "output_type": "execute_result"
                }
            ],
            "source": [
                "# How to insert a space between characters of all the elements of a given NumPy array?\n",
                "def insert_space(arr):\n",
                "    return np.char.join(\" \", arr)\n",
                "\n",
                "insert_space(np.array([\"aaa\", \"bbb\", \"ccc\"]))"
            ]
        },
        {
            "cell_type": "code",
            "execution_count": 112,
            "metadata": {},
            "outputs": [
                {
                    "data": {
                        "text/plain": [
                            "array([3, 2, 1])"
                        ]
                    },
                    "execution_count": 112,
                    "metadata": {},
                    "output_type": "execute_result"
                }
            ],
            "source": [
                "# Find the length of each string element in the Numpy array\n",
                "def length(arr):\n",
                "    return np.char.str_len(arr)\n",
                "\n",
                "length(np.array([\"aaa\", \"bb\", \"c\"]))"
            ]
        },
        {
            "cell_type": "code",
            "execution_count": 113,
            "metadata": {},
            "outputs": [
                {
                    "data": {
                        "text/plain": [
                            "array(['AAA', 'bbb', 'CcC'], dtype='<U3')"
                        ]
                    },
                    "execution_count": 113,
                    "metadata": {},
                    "output_type": "execute_result"
                }
            ],
            "source": [
                "# Swap the case of an array of string\n",
                "def swap_case(arr):\n",
                "    return np.char.swapcase(arr)\n",
                "\n",
                "swap_case(np.array([\"aaa\", \"BBB\", \"cCc\"]))"
            ]
        },
        {
            "cell_type": "code",
            "execution_count": 114,
            "metadata": {},
            "outputs": [
                {
                    "data": {
                        "text/plain": [
                            "array(['AAA', 'BBB', 'CCC'], dtype='<U3')"
                        ]
                    },
                    "execution_count": 114,
                    "metadata": {},
                    "output_type": "execute_result"
                }
            ],
            "source": [
                "# Change the case to uppercase of elements of an array\n",
                "def upper(arr):\n",
                "    return np.char.upper(arr)\n",
                "\n",
                "upper(np.array([\"aaa\", \"BBB\", \"cCc\"]))"
            ]
        },
        {
            "cell_type": "code",
            "execution_count": 115,
            "metadata": {},
            "outputs": [
                {
                    "data": {
                        "text/plain": [
                            "array(['aaa', 'bbb', 'ccc'], dtype='<U3')"
                        ]
                    },
                    "execution_count": 115,
                    "metadata": {},
                    "output_type": "execute_result"
                }
            ],
            "source": [
                "# Change the case to lowercase of elements of an array\n",
                "def lower(arr):\n",
                "    return np.char.lower(arr)\n",
                "\n",
                "lower(np.array([\"aaa\", \"BBB\", \"cCc\"]))"
            ]
        },
        {
            "cell_type": "code",
            "execution_count": 116,
            "metadata": {},
            "outputs": [
                {
                    "data": {
                        "text/plain": [
                            "array(['a-a-a', 'B-B-B', 'c-C-c'], dtype='<U5')"
                        ]
                    },
                    "execution_count": 116,
                    "metadata": {},
                    "output_type": "execute_result"
                }
            ],
            "source": [
                "# Join String by a seperator\n",
                "def join(arr):\n",
                "    return np.char.join(\"-\", arr)\n",
                "\n",
                "join(np.array([\"aaa\", \"BBB\", \"cCc\"]))"
            ]
        },
        {
            "cell_type": "code",
            "execution_count": 117,
            "metadata": {},
            "outputs": [
                {
                    "data": {
                        "text/plain": [
                            "array([ True,  True,  True])"
                        ]
                    },
                    "execution_count": 117,
                    "metadata": {},
                    "output_type": "execute_result"
                }
            ],
            "source": [
                "# Check if two same shaped string arrays one by one\n",
                "def check(arr1, arr2):\n",
                "    return np.char.equal(arr1, arr2)\n",
                "\n",
                "check(np.array([\"aaa\", \"BBB\", \"cCc\"]), np.array([\"aaa\", \"BBB\", \"cCc\"]))"
            ]
        },
        {
            "cell_type": "code",
            "execution_count": 118,
            "metadata": {},
            "outputs": [
                {
                    "data": {
                        "text/plain": [
                            "array([3, 0, 0])"
                        ]
                    },
                    "execution_count": 118,
                    "metadata": {},
                    "output_type": "execute_result"
                }
            ],
            "source": [
                "# Count the number of substrings in an array\n",
                "def count(arr):\n",
                "    return np.char.count(arr, \"a\")\n",
                "\n",
                "count(np.array([\"aaa\", \"BBB\", \"cCc\"]))"
            ]
        },
        {
            "cell_type": "code",
            "execution_count": 119,
            "metadata": {},
            "outputs": [
                {
                    "data": {
                        "text/plain": [
                            "array([ 0, -1, -1])"
                        ]
                    },
                    "execution_count": 119,
                    "metadata": {},
                    "output_type": "execute_result"
                }
            ],
            "source": [
                "# Find the lowest index of the substring in an array\n",
                "def find(arr):\n",
                "    return np.char.find(arr, \"a\")\n",
                "\n",
                "find(np.array([\"aaa\", \"BBB\", \"cCc\"]))"
            ]
        },
        {
            "cell_type": "code",
            "execution_count": 120,
            "metadata": {},
            "outputs": [
                {
                    "data": {
                        "text/plain": [
                            "array([ True, False, False])"
                        ]
                    },
                    "execution_count": 120,
                    "metadata": {},
                    "output_type": "execute_result"
                }
            ],
            "source": [
                "# Get the boolean array when values end with a particular character\n",
                "def endswith(arr):\n",
                "    return np.char.endswith(arr, \"a\")\n",
                "\n",
                "endswith(np.array([\"aaa\", \"BBB\", \"cCc\"]))"
            ]
        },
        {
            "attachments": {},
            "cell_type": "markdown",
            "metadata": {},
            "source": [
                "# More Questions on NumPy"
            ]
        },
        {
            "cell_type": "code",
            "execution_count": 121,
            "metadata": {},
            "outputs": [
                {
                    "data": {
                        "text/plain": [
                            "array([['a', '1'],\n",
                            "       ['b', '2'],\n",
                            "       ['c', '3']], dtype='<U11')"
                        ]
                    },
                    "execution_count": 121,
                    "metadata": {},
                    "output_type": "execute_result"
                }
            ],
            "source": [
                "# Different ways to convert a Python dictionary to a NumPy array\n",
                "def convert_dict_to_array(dict):\n",
                "    return np.array(list(dict.items()))\n",
                "\n",
                "convert_dict_to_array({\"a\": 1, \"b\": 2, \"c\": 3})"
            ]
        },
        {
            "cell_type": "code",
            "execution_count": 122,
            "metadata": {},
            "outputs": [
                {
                    "data": {
                        "text/plain": [
                            "(array([1, 2, 3]), array([4, 5, 6]))"
                        ]
                    },
                    "execution_count": 122,
                    "metadata": {},
                    "output_type": "execute_result"
                }
            ],
            "source": [
                "# How to convert a list and tuple into NumPy arrays?\n",
                "def convert_list_tuple_to_array(list, tuple):\n",
                "    return np.array(list), np.array(tuple)\n",
                "\n",
                "convert_list_tuple_to_array([1, 2, 3], (4, 5, 6))"
            ]
        },
        {
            "cell_type": "code",
            "execution_count": 123,
            "metadata": {},
            "outputs": [
                {
                    "data": {
                        "text/plain": [
                            "array([1.1, 2.2, 3.3])"
                        ]
                    },
                    "execution_count": 123,
                    "metadata": {},
                    "output_type": "execute_result"
                }
            ],
            "source": [
                "# Ways to convert array of strings to array of floats\n",
                "def convert_string_to_float(arr):\n",
                "    return arr.astype(float)\n",
                "\n",
                "convert_string_to_float(np.array([\"1.1\", \"2.2\", \"3.3\"]))"
            ]
        },
        {
            "cell_type": "code",
            "execution_count": 124,
            "metadata": {},
            "outputs": [],
            "source": [
                "# Convert a NumPy array into a csv file\n",
                "def convert_array_to_csv(arr):\n",
                "    np.savetxt(\"array.csv\", arr, delimiter=\",\")\n",
                "\n",
                "convert_array_to_csv(np.array([1, 2, 3]))"
            ]
        },
        {
            "cell_type": "code",
            "execution_count": 125,
            "metadata": {},
            "outputs": [],
            "source": [
                "# How to Convert an image to NumPy array and save it to CSV file using Python?\n",
                "from matplotlib import pyplot as plt\n",
                "\n",
                "def convert_image_to_array_and_save_to_csv(image):\n",
                "    arr = plt.imread(image)\n",
                "    np.savetxt(\"image.csv\", arr.reshape(-1, arr.shape[-1]), delimiter=\",\")\n",
                "\n",
                "convert_image_to_array_and_save_to_csv(\"../imgs/createImages/parabola.png\")"
            ]
        },
        {
            "cell_type": "code",
            "execution_count": 126,
            "metadata": {},
            "outputs": [],
            "source": [
                "# How to save a NumPy array to a text file?\n",
                "def save_array_to_text_file(arr):\n",
                "    np.savetxt(\"array.txt\", arr, delimiter=\",\")\n",
                "\n",
                "save_array_to_text_file(np.array([1, 2, 3]))\n"
            ]
        },
        {
            "cell_type": "code",
            "execution_count": 127,
            "metadata": {},
            "outputs": [
                {
                    "data": {
                        "text/plain": [
                            "array([1., 2., 3.])"
                        ]
                    },
                    "execution_count": 127,
                    "metadata": {},
                    "output_type": "execute_result"
                }
            ],
            "source": [
                "# Load data from a text file\n",
                "def load_data_from_text_file():\n",
                "    return np.loadtxt(\"array.txt\", delimiter=\",\")\n",
                "\n",
                "load_data_from_text_file()"
            ]
        },
        {
            "cell_type": "code",
            "execution_count": 128,
            "metadata": {},
            "outputs": [
                {
                    "data": {
                        "image/png": "[encoded data removed]",
                        "text/plain": [
                            "<Figure size 640x480 with 1 Axes>"
                        ]
                    },
                    "metadata": {},
                    "output_type": "display_data"
                }
            ],
            "source": [
                "# Plot line graph from NumPy array\n",
                "\n",
                "from matplotlib import pyplot as plt\n",
                "\n",
                "def plot_line_graph(arr):\n",
                "    plt.plot(arr)\n",
                "    plt.show()\n",
                "\n",
                "plot_line_graph(np.array([1, 2, 3]))"
            ]
        },
        {
            "cell_type": "code",
            "execution_count": 129,
            "metadata": {},
            "outputs": [
                {
                    "data": {
                        "image/png": "[encoded data removed]",
                        "text/plain": [
                            "<Figure size 640x480 with 1 Axes>"
                        ]
                    },
                    "metadata": {},
                    "output_type": "display_data"
                }
            ],
            "source": [
                "# Create Histogram using NumPy\n",
                "def create_histogram(arr):\n",
                "    plt.hist(arr)\n",
                "    plt.show()\n",
                "\n",
                "create_histogram(np.array([1, 2, 3]))"
            ]
        }
    ],
    "metadata": {
        "kernelspec": {
            "display_name": "Python 3",
            "language": "python",
            "name": "python3"
        },
        "language_info": {
            "codemirror_mode": {
                "name": "ipython",
                "version": 3
            },
            "file_extension": ".py",
            "mimetype": "text/x-python",
            "name": "python",
            "nbconvert_exporter": "python",
            "pygments_lexer": "ipython3",
            "version": "3.10.4"
        },
        "orig_nbformat": 4,
        "vscode": {
            "interpreter": {
                "hash": "369f2c481f4da34e4445cda3fffd2e751bd1c4d706f27375911949ba6bb62e1c"
            }
        }
    },
    "nbformat": 4,
    "nbformat_minor": 2
}
